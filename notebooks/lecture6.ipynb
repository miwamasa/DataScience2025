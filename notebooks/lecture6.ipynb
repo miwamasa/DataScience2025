{
 "cells": [
  {
   "attachments": {},
   "cell_type": "markdown",
   "metadata": {},
   "source": [
    "# Lec6 統計の基礎\n",
    "\n",
    "## 講義の内容\n",
    "- 統計とは\n",
    "  - 母集団と標本\n",
    "  - 記述統計量\n",
    "  - 正規分布、様々な確率分布\n",
    "- 推定\n",
    "  - 点推定、区間推定と信頼区間\n",
    "- 仮説検定\n",
    "  - 帰無仮説、対立仮設、有意水準、相関\n"
   ]
  },
  {
   "cell_type": "markdown",
   "metadata": {},
   "source": [
    "統計分布について一通り確率密度関数から検定までが実装されている．scipy.statsを使います。\n",
    "\n",
    "参考：\n",
    "https://github.com/rasbt/data-science-tutorial"
   ]
  },
  {
   "cell_type": "markdown",
   "metadata": {},
   "source": [
    "## 要約統計量 (Summary Statistics) "
   ]
  },
  {
   "cell_type": "code",
   "execution_count": 1,
   "metadata": {},
   "outputs": [],
   "source": [
    "import pandas as pd\n",
    "import numpy as np\n",
    "from scipy import stats\n",
    "import matplotlib.pyplot as plt\n",
    "%matplotlib inline"
   ]
  },
  {
   "cell_type": "markdown",
   "metadata": {},
   "source": [
    "Irisデータセットをロードし、'sepal_length'(がく片の長さ cm)の分布をヒストグラムで確かめます。"
   ]
  },
  {
   "cell_type": "code",
   "execution_count": 4,
   "metadata": {},
   "outputs": [
    {
     "data": {
      "image/png": "[encoded data removed]",
      "text/plain": [
       "<Figure size 432x288 with 1 Axes>"
      ]
     },
     "metadata": {
      "needs_background": "light"
     },
     "output_type": "display_data"
    }
   ],
   "source": [
    "# read dataset\n",
    "df = pd.read_csv('./datasets/iris/iris.csv')\n",
    "\n",
    "def histo():\n",
    "    # create histogram\n",
    "    bin_edges = np.arange(0, df['sepal_length'].max() + 1, 0.5)\n",
    "    fig = plt.hist(df['sepal_length'], bins=bin_edges)\n",
    "\n",
    "    # add plot labels\n",
    "    plt.xlabel('count')\n",
    "    plt.ylabel('sepal length')\n",
    "    \n",
    "    \n",
    "histo()"
   ]
  },
  {
   "cell_type": "markdown",
   "metadata": {},
   "source": [
    "'sepal_length'の方がfloat64であることを確かめます。(N.A等が入ってないかどうか)"
   ]
  },
  {
   "cell_type": "code",
   "execution_count": 5,
   "metadata": {},
   "outputs": [
    {
     "data": {
      "text/plain": [
       "dtype('float64')"
      ]
     },
     "execution_count": 5,
     "metadata": {},
     "output_type": "execute_result"
    }
   ],
   "source": [
    "x = df['sepal_length'].values\n",
    "x.dtype"
   ]
  },
  {
   "cell_type": "markdown",
   "metadata": {},
   "source": [
    "平均を計算します"
   ]
  },
  {
   "cell_type": "code",
   "execution_count": 6,
   "metadata": {},
   "outputs": [
    {
     "data": {
      "text/plain": [
       "5.843333333333335"
      ]
     },
     "execution_count": 6,
     "metadata": {},
     "output_type": "execute_result"
    }
   ],
   "source": [
    "sum(i for i in x) / len(x)"
   ]
  },
  {
   "cell_type": "markdown",
   "metadata": {},
   "source": [
    "numpyのmean/0関数でも計算できますが、値は同じではありませんん。"
   ]
  },
  {
   "cell_type": "code",
   "execution_count": 7,
   "metadata": {},
   "outputs": [
    {
     "data": {
      "text/plain": [
       "5.843333333333334"
      ]
     },
     "execution_count": 7,
     "metadata": {},
     "output_type": "execute_result"
    }
   ],
   "source": [
    "x_mean = np.mean(x)\n",
    "x_mean"
   ]
  },
  {
   "cell_type": "markdown",
   "metadata": {},
   "source": [
    "ヒストグラムに、平均の線（縦線）を重ね書きします。"
   ]
  },
  {
   "cell_type": "code",
   "execution_count": 8,
   "metadata": {},
   "outputs": [
    {
     "data": {
      "text/plain": [
       "<matplotlib.lines.Line2D at 0x1be22425520>"
      ]
     },
     "execution_count": 8,
     "metadata": {},
     "output_type": "execute_result"
    },
    {
     "data": {
      "image/png": "[encoded data removed]",
      "text/plain": [
       "<Figure size 432x288 with 1 Axes>"
      ]
     },
     "metadata": {
      "needs_background": "light"
     },
     "output_type": "display_data"
    }
   ],
   "source": [
    "histo()\n",
    "plt.axvline(x_mean, color='darkorange')"
   ]
  },
  {
   "cell_type": "markdown",
   "metadata": {},
   "source": [
    "分散を計算します。最初は、公式どおりに計算します\n"
   ]
  },
  {
   "cell_type": "code",
   "execution_count": 9,
   "metadata": {},
   "outputs": [
    {
     "data": {
      "text/plain": [
       "0.6856935123042504"
      ]
     },
     "execution_count": 9,
     "metadata": {},
     "output_type": "execute_result"
    }
   ],
   "source": [
    "sum([(i - x_mean)**2 for i in x]) / (len(x) - 1)"
   ]
  },
  {
   "cell_type": "markdown",
   "metadata": {},
   "source": [
    "numpyのvar/2を使っても計算できます。ddofは\n",
    "\n",
    "Bessel's correction(nの代わりにn-1で割ること)を考慮している"
   ]
  },
  {
   "cell_type": "code",
   "execution_count": 9,
   "metadata": {},
   "outputs": [
    {
     "data": {
      "text/plain": [
       "0.6856935123042507"
      ]
     },
     "execution_count": 9,
     "metadata": {},
     "output_type": "execute_result"
    }
   ],
   "source": [
    "var = np.var(x, ddof=1)\n",
    "var"
   ]
  },
  {
   "cell_type": "code",
   "execution_count": 10,
   "metadata": {},
   "outputs": [
    {
     "data": {
      "text/plain": [
       "0.6856935123042507"
      ]
     },
     "execution_count": 10,
     "metadata": {},
     "output_type": "execute_result"
    }
   ],
   "source": [
    "df['sepal_length'].var() # note that Bessel's correction is the default"
   ]
  },
  {
   "cell_type": "markdown",
   "metadata": {},
   "source": [
    "それでは平均±分散を縦線で重ねます"
   ]
  },
  {
   "cell_type": "code",
   "execution_count": 11,
   "metadata": {},
   "outputs": [
    {
     "data": {
      "text/plain": [
       "<matplotlib.lines.Line2D at 0x1be2250d460>"
      ]
     },
     "execution_count": 11,
     "metadata": {},
     "output_type": "execute_result"
    },
    {
     "data": {
      "image/png": "[encoded data removed]",
      "text/plain": [
       "<Figure size 432x288 with 1 Axes>"
      ]
     },
     "metadata": {
      "needs_background": "light"
     },
     "output_type": "display_data"
    }
   ],
   "source": [
    "histo()\n",
    "plt.axvline(x_mean + var, color='darkorange')\n",
    "plt.axvline(x_mean - var, color='darkorange')"
   ]
  },
  {
   "cell_type": "markdown",
   "metadata": {},
   "source": [
    "標準偏差：\n",
    "\n",
    "　numpyのstd関数でも計算できます。Bessel's correction が入ってます"
   ]
  },
  {
   "cell_type": "code",
   "execution_count": 12,
   "metadata": {},
   "outputs": [
    {
     "data": {
      "text/plain": [
       "0.8280661279778628"
      ]
     },
     "execution_count": 12,
     "metadata": {},
     "output_type": "execute_result"
    }
   ],
   "source": [
    "(sum([(i - x_mean)**2 for i in x]) / (len(x) - 1))**0.5"
   ]
  },
  {
   "cell_type": "code",
   "execution_count": 13,
   "metadata": {},
   "outputs": [
    {
     "data": {
      "text/plain": [
       "0.828066127977863"
      ]
     },
     "execution_count": 13,
     "metadata": {},
     "output_type": "execute_result"
    }
   ],
   "source": [
    "np.sqrt(np.var(x, ddof=1))"
   ]
  },
  {
   "cell_type": "code",
   "execution_count": 14,
   "metadata": {},
   "outputs": [
    {
     "data": {
      "text/plain": [
       "0.828066127977863"
      ]
     },
     "execution_count": 14,
     "metadata": {},
     "output_type": "execute_result"
    }
   ],
   "source": [
    "std = np.std(x, ddof=1)\n",
    "std"
   ]
  },
  {
   "cell_type": "code",
   "execution_count": 15,
   "metadata": {},
   "outputs": [
    {
     "data": {
      "text/plain": [
       "0.828066127977863"
      ]
     },
     "execution_count": 15,
     "metadata": {},
     "output_type": "execute_result"
    }
   ],
   "source": [
    "df['sepal_length'].std() # note that Bessel's correction is the default"
   ]
  },
  {
   "cell_type": "code",
   "execution_count": 16,
   "metadata": {},
   "outputs": [
    {
     "data": {
      "text/plain": [
       "<matplotlib.lines.Line2D at 0x1be223c4bb0>"
      ]
     },
     "execution_count": 16,
     "metadata": {},
     "output_type": "execute_result"
    },
    {
     "data": {
      "image/png": "[encoded data removed]",
      "text/plain": [
       "<Figure size 432x288 with 1 Axes>"
      ]
     },
     "metadata": {
      "needs_background": "light"
     },
     "output_type": "display_data"
    }
   ],
   "source": [
    "histo()\n",
    "plt.axvline(x_mean + std, color='darkorange')\n",
    "plt.axvline(x_mean - std, color='darkorange')"
   ]
  },
  {
   "cell_type": "markdown",
   "metadata": {},
   "source": [
    "Min/Max"
   ]
  },
  {
   "cell_type": "code",
   "execution_count": 17,
   "metadata": {},
   "outputs": [
    {
     "data": {
      "text/plain": [
       "(4.3, 7.9)"
      ]
     },
     "execution_count": 17,
     "metadata": {},
     "output_type": "execute_result"
    }
   ],
   "source": [
    "np.min(x),np.max(x)"
   ]
  },
  {
   "cell_type": "markdown",
   "metadata": {},
   "source": [
    "モード（最頻値):\n",
    "\n",
    "いったんlistに変換すると list.count(値)で、その値をもつデータ数を数え上げられます\n",
    "\n",
    "関数 max(set(list_name), key = list_name.count) は、指定されたリストで最大回数発生する要素を返します。"
   ]
  },
  {
   "cell_type": "code",
   "execution_count": 18,
   "metadata": {},
   "outputs": [
    {
     "data": {
      "text/plain": [
       "5.0"
      ]
     },
     "execution_count": 18,
     "metadata": {},
     "output_type": "execute_result"
    }
   ],
   "source": [
    "lst = list(x)\n",
    "mode = max(set(lst), key=lst.count)\n",
    "mode"
   ]
  },
  {
   "cell_type": "markdown",
   "metadata": {},
   "source": [
    "最頻値に何個データがあったか、"
   ]
  },
  {
   "cell_type": "code",
   "execution_count": 21,
   "metadata": {},
   "outputs": [
    {
     "data": {
      "text/plain": [
       "10"
      ]
     },
     "execution_count": 21,
     "metadata": {},
     "output_type": "execute_result"
    }
   ],
   "source": [
    "lst.count(mode)"
   ]
  },
  {
   "cell_type": "markdown",
   "metadata": {},
   "source": [
    "stasのmode関数でも求められます"
   ]
  },
  {
   "cell_type": "code",
   "execution_count": 22,
   "metadata": {},
   "outputs": [
    {
     "data": {
      "text/plain": [
       "ModeResult(mode=array([5.]), count=array([10]))"
      ]
     },
     "execution_count": 22,
     "metadata": {},
     "output_type": "execute_result"
    }
   ],
   "source": [
    "stats.mode(x)"
   ]
  },
  {
   "cell_type": "markdown",
   "metadata": {},
   "source": [
    "25パーセント点と75パーセント点:\n",
    "\n",
    "- まずはxをソートしてyを得ます\n",
    "- y.shape[0]は、yの要素数を返します。要素数の25%/75&のところの値を得ます"
   ]
  },
  {
   "cell_type": "code",
   "execution_count": 26,
   "metadata": {},
   "outputs": [
    {
     "data": {
      "text/plain": [
       "5.1"
      ]
     },
     "execution_count": 26,
     "metadata": {},
     "output_type": "execute_result"
    }
   ],
   "source": [
    "y = np.sort(x)\n",
    "percentile_25th = y[round(0.25 * y.shape[0]) + 1]\n",
    "percentile_25th"
   ]
  },
  {
   "cell_type": "code",
   "execution_count": 27,
   "metadata": {},
   "outputs": [
    {
     "data": {
      "text/plain": [
       "6.4"
      ]
     },
     "execution_count": 27,
     "metadata": {},
     "output_type": "execute_result"
    }
   ],
   "source": [
    "percentile_75th = y[round(0.75 * y.shape[0]) - 1]\n",
    "percentile_75th"
   ]
  },
  {
   "cell_type": "markdown",
   "metadata": {},
   "source": [
    "numpyのpercentile関数を使ってもば求まります。"
   ]
  },
  {
   "cell_type": "code",
   "execution_count": 25,
   "metadata": {},
   "outputs": [
    {
     "name": "stderr",
     "output_type": "stream",
     "text": [
      "C:\\Users\\miwam\\AppData\\Local\\Temp\\ipykernel_19692\\1784253322.py:1: DeprecationWarning: the `interpolation=` argument to percentile was renamed to `method=`, which has additional options.\n",
      "Users of the modes 'nearest', 'lower', 'higher', or 'midpoint' are encouraged to review the method they. (Deprecated NumPy 1.22)\n",
      "  np.percentile(x, q=[25, 75], interpolation='lower')\n"
     ]
    },
    {
     "data": {
      "text/plain": [
       "array([5.1, 6.4])"
      ]
     },
     "execution_count": 25,
     "metadata": {},
     "output_type": "execute_result"
    }
   ],
   "source": [
    "np.percentile(x, q=[25, 75], interpolation='lower')"
   ]
  },
  {
   "cell_type": "markdown",
   "metadata": {},
   "source": [
    "pandasのDataFrameのquntile関数を使っても求められます"
   ]
  },
  {
   "cell_type": "code",
   "execution_count": 29,
   "metadata": {},
   "outputs": [
    {
     "data": {
      "text/plain": [
       "5.1"
      ]
     },
     "execution_count": 29,
     "metadata": {},
     "output_type": "execute_result"
    }
   ],
   "source": [
    "df['sepal_length'].quantile(0.25, interpolation='lower')"
   ]
  },
  {
   "cell_type": "code",
   "execution_count": 30,
   "metadata": {},
   "outputs": [
    {
     "data": {
      "text/plain": [
       "6.4"
      ]
     },
     "execution_count": 30,
     "metadata": {},
     "output_type": "execute_result"
    }
   ],
   "source": [
    "df['sepal_length'].quantile(0.75, interpolation='lower')"
   ]
  },
  {
   "cell_type": "markdown",
   "metadata": {},
   "source": [
    "25パーセント点と75パーセント点をプロットしてみます"
   ]
  },
  {
   "cell_type": "code",
   "execution_count": 31,
   "metadata": {},
   "outputs": [
    {
     "data": {
      "text/plain": [
       "<matplotlib.lines.Line2D at 0x1be2254fd60>"
      ]
     },
     "execution_count": 31,
     "metadata": {},
     "output_type": "execute_result"
    },
    {
     "data": {
      "image/png": "[encoded data removed]",
      "text/plain": [
       "<Figure size 432x288 with 1 Axes>"
      ]
     },
     "metadata": {
      "needs_background": "light"
     },
     "output_type": "display_data"
    }
   ],
   "source": [
    "histo()\n",
    "plt.axvline(percentile_75th, color='darkorange')\n",
    "plt.axvline(percentile_25th - var, color='darkorange')"
   ]
  },
  {
   "cell_type": "markdown",
   "metadata": {},
   "source": [
    "中央値 (50パーセント点でもある):"
   ]
  },
  {
   "cell_type": "code",
   "execution_count": 32,
   "metadata": {},
   "outputs": [
    {
     "data": {
      "text/plain": [
       "5.8"
      ]
     },
     "execution_count": 32,
     "metadata": {},
     "output_type": "execute_result"
    }
   ],
   "source": [
    "x = np.sort(x)\n",
    "\n",
    "tmp = round(0.5 * x.shape[0])\n",
    "\n",
    "if x.shape[0] % 2:\n",
    "    median = x[tmp - 1]\n",
    "else:\n",
    "    median = x[tmp - 1] + (x[tmp] - x[tmp - 1]) / 2.\n",
    "    \n",
    "median"
   ]
  },
  {
   "cell_type": "markdown",
   "metadata": {},
   "source": [
    "numpyにはmedian関数がある"
   ]
  },
  {
   "cell_type": "code",
   "execution_count": 33,
   "metadata": {},
   "outputs": [
    {
     "data": {
      "text/plain": [
       "5.8"
      ]
     },
     "execution_count": 33,
     "metadata": {},
     "output_type": "execute_result"
    }
   ],
   "source": [
    "np.median(x)"
   ]
  },
  {
   "cell_type": "code",
   "execution_count": 31,
   "metadata": {},
   "outputs": [
    {
     "data": {
      "text/plain": [
       "<matplotlib.lines.Line2D at 0x2a4e2096970>"
      ]
     },
     "execution_count": 31,
     "metadata": {},
     "output_type": "execute_result"
    },
    {
     "data": {
      "image/png": "[encoded data removed]",
      "text/plain": [
       "<Figure size 432x288 with 1 Axes>"
      ]
     },
     "metadata": {
      "needs_background": "light"
     },
     "output_type": "display_data"
    }
   ],
   "source": [
    "histo()\n",
    "plt.axvline(median, color='darkorange')"
   ]
  },
  {
   "cell_type": "markdown",
   "metadata": {},
   "source": [
    "## 仮説検定入門\n",
    "hypothesis-testing_1.ipynb　より"
   ]
  },
  {
   "cell_type": "markdown",
   "metadata": {},
   "source": [
    "### Case 1 -- 並べ替え(permutating)サンプリングによる、帰無仮説に基づいたシミュレーションの利用 (2-sample test)\n",
    "- 2標本間の平均値差の検定（並べ替え検定)\n",
    "- 帰無仮説: ２分布の間での平均は同一である(「2 つの母集団は同じもの\n",
    "である」）\n",
    "- 2分布の平均には差がある（経験的平均）\n",
    "- 帰無仮説が正しいならば、経験的平均は確率的にそうなったに違ない、じゃあ、この平均の差はどれぐらいの確率で起こるものなのかを計算する。\n",
    "- データを並べ替えて (permute the data) ２つに分けて違いがあるかどうかを検証する。(帰無仮説に基づいて新しいデータを生成しているともいえる)\n",
    "- 参考：https://www.mizumot.com/files/permutation.pdf"
   ]
  },
  {
   "cell_type": "markdown",
   "metadata": {},
   "source": [
    "Irisデータを使う。setosaとversicolorのsepal_widthのリストを得る(x1,x2)"
   ]
  },
  {
   "cell_type": "code",
   "execution_count": 34,
   "metadata": {},
   "outputs": [],
   "source": [
    "df = pd.read_csv('./datasets/iris/iris.csv')\n",
    "x1 = df.loc[df['species'] == 'setosa', 'sepal_width'].values\n",
    "x2 = df.loc[df['species'] == 'versicolor', 'sepal_width'].values"
   ]
  },
  {
   "cell_type": "code",
   "execution_count": 35,
   "metadata": {},
   "outputs": [
    {
     "name": "stdout",
     "output_type": "stream",
     "text": [
      "Mean: 3.428\n",
      "Std.Dev.: 0.3790643690962887\n",
      "Mean: 2.7700000000000005\n",
      "Std.Dev.: 0.3137983233784114\n"
     ]
    }
   ],
   "source": [
    "for d in (x1, x2):\n",
    "    print('Mean:', np.mean(d))\n",
    "    print('Std.Dev.:', np.std(d, ddof=1))"
   ]
  },
  {
   "cell_type": "markdown",
   "metadata": {},
   "source": [
    "the difference in means (our test statistic) of permuted samples should be zero if the null hypothesis is true"
   ]
  },
  {
   "cell_type": "markdown",
   "metadata": {},
   "source": [
    "２つのサンプル集合をくっつけて、並べ替えて、２つに分割して返します。"
   ]
  },
  {
   "cell_type": "code",
   "execution_count": 36,
   "metadata": {},
   "outputs": [],
   "source": [
    "def generate_permutation_samples(sample1, sample2, seed=None):\n",
    "    rng = np.random.RandomState(seed)\n",
    "    sample = np.concatenate((sample1, sample2))\n",
    "    sample_perm = rng.permutation(sample)\n",
    "    sample1_perm = sample_perm[:sample1.shape[0]]\n",
    "    sample2_perm = sample_perm[sample1.shape[0]:]\n",
    "    return sample1_perm, sample2_perm"
   ]
  },
  {
   "cell_type": "markdown",
   "metadata": {},
   "source": [
    "x1,x2から並び替えを行いx1_perm,x2_permを得てこの差を perm_mean_diffsの要素として格納することを1000回行う。"
   ]
  },
  {
   "cell_type": "code",
   "execution_count": 37,
   "metadata": {},
   "outputs": [],
   "source": [
    "num_permutations = 1000\n",
    "\n",
    "perm_mean_diffs = np.zeros(num_permutations)\n",
    "for i in range(num_permutations):\n",
    "    x1_perm, x2_perm = generate_permutation_samples(x1, x2, seed=i)\n",
    "    perm_mean_diffs[i] = np.mean(x1_perm) - np.mean(x2_perm)"
   ]
  },
  {
   "cell_type": "markdown",
   "metadata": {},
   "source": [
    "経験的平均の差をもとめる。差がある"
   ]
  },
  {
   "cell_type": "code",
   "execution_count": 41,
   "metadata": {},
   "outputs": [
    {
     "data": {
      "text/plain": [
       "0.6579999999999995"
      ]
     },
     "execution_count": 41,
     "metadata": {},
     "output_type": "execute_result"
    }
   ],
   "source": [
    "empirical_mean_diff = np.mean(x1) - np.mean(x2)\n",
    "empirical_mean_diff"
   ]
  },
  {
   "cell_type": "markdown",
   "metadata": {},
   "source": [
    "経験的なへ近の差は、確率的にそれが得られたものとすると、じゃあ、そうじゃないデータを前提（帰無仮説）とすると経験的平均の差はどれだけ、ありえないのかを検定する。\n",
    "\n",
    "perm_mean_diffsの分布（リサンプリングした２つの分布の平均の差の分布）と、経験的平均（オレンジ）の重ね書きで可視化する"
   ]
  },
  {
   "cell_type": "code",
   "execution_count": 42,
   "metadata": {},
   "outputs": [
    {
     "data": {
      "text/plain": [
       "<matplotlib.lines.Line2D at 0x1be2260fb50>"
      ]
     },
     "execution_count": 42,
     "metadata": {},
     "output_type": "execute_result"
    },
    {
     "data": {
      "image/png": "[encoded data removed]",
      "text/plain": [
       "<Figure size 432x288 with 1 Axes>"
      ]
     },
     "metadata": {
      "needs_background": "light"
     },
     "output_type": "display_data"
    }
   ],
   "source": [
    "plt.hist(perm_mean_diffs, bins=20)\n",
    "plt.axvline(empirical_mean_diff, color='orange')"
   ]
  },
  {
   "cell_type": "markdown",
   "metadata": {},
   "source": [
    "p値は、、0.0である"
   ]
  },
  {
   "cell_type": "code",
   "execution_count": 2,
   "metadata": {},
   "outputs": [
    {
     "ename": "NameError",
     "evalue": "name 'perm_mean_diffs' is not defined",
     "output_type": "error",
     "traceback": [
      "\u001b[0;31m---------------------------------------------------------------------------\u001b[0m",
      "\u001b[0;31mNameError\u001b[0m                                 Traceback (most recent call last)",
      "\u001b[0;32m<ipython-input-2-875d7c5f0126>\u001b[0m in \u001b[0;36m<module>\u001b[0;34m\u001b[0m\n\u001b[0;32m----> 1\u001b[0;31m \u001b[0mp_value\u001b[0m \u001b[0;34m=\u001b[0m \u001b[0mnp\u001b[0m\u001b[0;34m.\u001b[0m\u001b[0msum\u001b[0m\u001b[0;34m(\u001b[0m\u001b[0mperm_mean_diffs\u001b[0m \u001b[0;34m>=\u001b[0m \u001b[0mempirical_mean_diff\u001b[0m\u001b[0;34m)\u001b[0m \u001b[0;34m/\u001b[0m \u001b[0mlen\u001b[0m\u001b[0;34m(\u001b[0m\u001b[0mperm_mean_diffs\u001b[0m\u001b[0;34m)\u001b[0m\u001b[0;34m\u001b[0m\u001b[0;34m\u001b[0m\u001b[0m\n\u001b[0m\u001b[1;32m      2\u001b[0m \u001b[0mprint\u001b[0m\u001b[0;34m(\u001b[0m\u001b[0;34m'P-value'\u001b[0m\u001b[0;34m,\u001b[0m \u001b[0mp_value\u001b[0m\u001b[0;34m)\u001b[0m\u001b[0;34m\u001b[0m\u001b[0;34m\u001b[0m\u001b[0m\n",
      "\u001b[0;31mNameError\u001b[0m: name 'perm_mean_diffs' is not defined"
     ]
    }
   ],
   "source": [
    "p_value = np.sum(perm_mean_diffs >= empirical_mean_diff) / len(perm_mean_diffs)\n",
    "print('P-value', p_value)"
   ]
  },
  {
   "cell_type": "markdown",
   "metadata": {},
   "source": [
    "- 経験的平均(オレンジの縦線)から左（あるいは右）の領域がp値である\n",
    "- オレンジの縦線から右の領域の面積が0.0であるから、帰無仮説が正しいならば、標本の平均の差を観測する可能性もっと極端なことは0%らしい、ことがわかる。\n",
    "- すなわち、帰無仮説はrejectされる。帰無仮説が正しければ、ここで観測が期待されるより、統計的に優位に異なるデータが得られるはずである"
   ]
  },
  {
   "cell_type": "markdown",
   "metadata": {},
   "source": [
    "### Case 2 -- ブートストラップ法(bootstraping)による、帰無仮説に基づいたシミュレーションの利用 (1-sample test)\n"
   ]
  },
  {
   "cell_type": "code",
   "execution_count": 41,
   "metadata": {},
   "outputs": [
    {
     "data": {
      "text/plain": [
       "3.428"
      ]
     },
     "execution_count": 41,
     "metadata": {},
     "output_type": "execute_result"
    }
   ],
   "source": [
    "df = pd.read_csv('./datasets/iris/iris.csv')\n",
    "x1 = df.loc[df['species'] == 'setosa', 'sepal_width'].values\n",
    "x1_mean = np.mean(x1)\n",
    "x1_mean"
   ]
  },
  {
   "cell_type": "markdown",
   "metadata": {},
   "source": [
    "- 帰無仮説：x1とx2は同じ平均値を持つ（分布は同じとは限らない）\n",
    "- x2からは標本データは得られず、平均だけが得られるとする\n",
    "- 有意水準を$\\alpha=0.05$とする"
   ]
  },
  {
   "cell_type": "code",
   "execution_count": 45,
   "metadata": {},
   "outputs": [],
   "source": [
    "x2_mean = 3.55"
   ]
  },
  {
   "cell_type": "markdown",
   "metadata": {},
   "source": [
    "1. x1を正規化し、x2と同じ平均を持つようにする\n",
    "2. ブートストラップされたレプリカを得る\n",
    "3. p値を計算"
   ]
  },
  {
   "cell_type": "code",
   "execution_count": 50,
   "metadata": {},
   "outputs": [
    {
     "name": "stdout",
     "output_type": "stream",
     "text": [
      "p-value 0.006\n"
     ]
    }
   ],
   "source": [
    "# 1) normalize x1 so that it has the same mean as x2\n",
    "normed_x1 = x1 - np.mean(x1) + x2_mean\n",
    "\n",
    "# 2) draw bootstrap replicates\n",
    "def bootstrap_means(x, n_bootstrap_samples, seed=None):\n",
    "\n",
    "    rng = np.random.RandomState(seed)\n",
    "    sample_means = np.zeros(shape=n_bootstrap_samples)\n",
    "    \n",
    "    for i in range(n_bootstrap_samples):\n",
    "        boot_sample = rng.choice(x, size=x.shape[0], replace=True)\n",
    "        # replicate is a general term for a statistic computed\n",
    "        # from a bootstrap sample\n",
    "        bootstrap_replicate = np.mean(boot_sample)\n",
    "        sample_means[i] = bootstrap_replicate\n",
    "    return sample_means\n",
    "\n",
    "num_replicates = 1000\n",
    "bs_replicates = bootstrap_means(x1, n_bootstrap_samples=num_replicates, seed=123)\n",
    "\n",
    "# 3) compute p-value\n",
    "p_value = np.sum(bs_replicates >= x2_mean) / num_replicates\n",
    "\n",
    "print('p-value', p_value)"
   ]
  },
  {
   "cell_type": "markdown",
   "metadata": {},
   "source": [
    "at $\\alpha=0.005$, we can reject the null hypothesis that the two variables are from the same distribtion"
   ]
  },
  {
   "cell_type": "code",
   "execution_count": 48,
   "metadata": {},
   "outputs": [
    {
     "data": {
      "text/plain": [
       "<matplotlib.lines.Line2D at 0x1be226abe50>"
      ]
     },
     "execution_count": 48,
     "metadata": {},
     "output_type": "execute_result"
    },
    {
     "data": {
      "image/png": "[encoded data removed]",
      "text/plain": [
       "<Figure size 432x288 with 1 Axes>"
      ]
     },
     "metadata": {
      "needs_background": "light"
     },
     "output_type": "display_data"
    }
   ],
   "source": [
    "plt.hist(bs_replicates, bins=20)\n",
    "plt.axvline(x2_mean, color='orange')"
   ]
  },
  {
   "cell_type": "markdown",
   "metadata": {},
   "source": [
    "## 分布の件"
   ]
  },
  {
   "cell_type": "markdown",
   "metadata": {},
   "source": [
    "# 正規分布を知る"
   ]
  },
  {
   "cell_type": "code",
   "execution_count": 3,
   "metadata": {},
   "outputs": [],
   "source": [
    "# -*- coding: utf-8 -*-\n",
    "import numpy as np\n",
    "import scipy.stats\n",
    "from scipy.stats import norm  # normal distribution, 正規分布\n",
    "\n",
    "import matplotlib.pyplot as plt\n",
    "%matplotlib inline\n",
    "\n",
    "FLAG_fig = True"
   ]
  },
  {
   "cell_type": "markdown",
   "metadata": {},
   "source": [
    "正規分布のグラフ pdf（probability density function）"
   ]
  },
  {
   "cell_type": "code",
   "execution_count": 4,
   "metadata": {},
   "outputs": [
    {
     "data": {
      "image/png": "[encoded data removed]",
      "text/plain": [
       "<Figure size 576x216 with 1 Axes>"
      ]
     },
     "metadata": {
      "needs_background": "light"
     },
     "output_type": "display_data"
    }
   ],
   "source": [
    "m = 5   # 平均値\n",
    "std = 2 # 標準偏差\n",
    "std2 = 4\n",
    "x = np.arange( -5, 15, 0.01)\n",
    "y = norm.pdf(x, loc=m, scale=std)\n",
    "y2 = norm.pdf(x, loc=m, scale=std2)\n",
    "#y = (1 / np.sqrt(2 * np.pi * std*std ) ) * np.exp(-(x-m) ** 2 / (2 * std*std) ) #正規分布の式\n",
    "\n",
    "fig = plt.subplots(figsize=(8,3))\n",
    "plt.plot(x,y,label='std=2')\n",
    "plt.plot(x,y2,label='std=4')\n",
    "plt.xlabel('x')\n",
    "plt.ylabel('probabiity density')\n",
    "plt.legend()\n",
    "if FLAG_fig: plt.savefig('fig_PROB_NormalDist.png')"
   ]
  },
  {
   "cell_type": "markdown",
   "metadata": {},
   "source": [
    "#### パーセント点と確率の計算\n",
    "パーセント点（pp:percent point)$z_{\\alpha}$ を求めるには，$1-\\alpha$をppf ( percent point function )に与える。<br>\n",
    "確率を求めるには，パーセント点$z_{\\alpha}$をcdf (cumulative density function)　に与える。<br>\n",
    "なお，標準正規分布（平均値 $m = 0$,  標準偏差 $\\sigma=1$ ）を対象とする<br>"
   ]
  },
  {
   "cell_type": "markdown",
   "metadata": {},
   "source": [
    "#### 片側の場合\n",
    "標準正規分布$N(0,1)$のグラフで，$z_{\\alpha} \\le x < \\infty$ の確率 $\\alpha$（面積）をユーザが与える。このとき，  \n",
    "$- \\infty < x \\le z_{\\alpha} $の確率（面積）は $1-\\alpha$となる。\n",
    "この値をscipy.stats.norm.ppf に与えれば，$z_{\\alpha}$が求まる。"
   ]
  },
  {
   "cell_type": "code",
   "execution_count": 14,
   "metadata": {},
   "outputs": [
    {
     "name": "stdout",
     "output_type": "stream",
     "text": [
      "パーセント点＝ 1.6448536269514722\n"
     ]
    }
   ],
   "source": [
    "m = 0\n",
    "std = 1\n",
    "alpha = 0.05\n",
    "prob = 1 - alpha\n",
    "z_alp = norm.ppf(prob, loc=m, scale=std)\n",
    "print('パーセント点＝', z_alp) #"
   ]
  },
  {
   "cell_type": "code",
   "execution_count": 15,
   "metadata": {},
   "outputs": [
    {
     "data": {
      "image/png": "[encoded data removed]",
      "text/plain": [
       "<Figure size 360x216 with 1 Axes>"
      ]
     },
     "metadata": {
      "needs_background": "light"
     },
     "output_type": "display_data"
    }
   ],
   "source": [
    "# グラフ書いてみるよ\n",
    "m = 0\n",
    "std = 1\n",
    "alpha = 0.05\n",
    "\n",
    "x = np.arange( -3, 3, 0.01)\n",
    "y = norm.pdf(x, loc=m, scale=std)\n",
    "\n",
    "fig = plt.subplots(figsize=(5,3))\n",
    "plt.plot(x,y,label='std=1')\n",
    "\n",
    "prob = 1 - alpha\n",
    "z_alp = norm.ppf(prob, loc=m, scale=std)\n",
    "plt.axvline(z_alp, color='orange',label=\"z_alp={0}\".format(z_alp))\n",
    "plt.title(\"Percent point z_alp for alpha=0.05\")\n",
    "plt.legend()\n",
    "if FLAG_fig: plt.savefig('fig_PROB_PercentPoint.png')"
   ]
  },
  {
   "cell_type": "markdown",
   "metadata": {},
   "source": [
    "isf (Inverse survival function，生存関数の逆関数）を用いると，1-alphaの計算が不要で，上記と同じパーセント点を得る"
   ]
  },
  {
   "cell_type": "code",
   "execution_count": 52,
   "metadata": {},
   "outputs": [
    {
     "name": "stdout",
     "output_type": "stream",
     "text": [
      "isfを用いたパーセント点 1.6448536269514729\n"
     ]
    }
   ],
   "source": [
    "z_alp2 = norm.isf(alpha, loc=m, scale=std)\n",
    "print('isfを用いたパーセント点', z_alp2)"
   ]
  },
  {
   "cell_type": "code",
   "execution_count": 16,
   "metadata": {},
   "outputs": [
    {
     "name": "stdout",
     "output_type": "stream",
     "text": [
      "確率＝ 0.9750021048517795\n"
     ]
    }
   ],
   "source": [
    "m = 0\n",
    "std = 1.0\n",
    "z_alp = 1.96\n",
    "prob = norm.cdf(z_alp, loc=m, scale=std)\n",
    "print('確率＝',prob)"
   ]
  },
  {
   "cell_type": "markdown",
   "metadata": {},
   "source": [
    "#### 両側の場合\n",
    "区間[a b]の確率を求める。\n",
    "1. $- \\infty < x \\le z_{b} $の確率$P_a$を求める  \n",
    "2. $- \\infty < x \\le z_{a} $の確率$P_b$を求める\n",
    "3. $P_a - P_b$を計算"
   ]
  },
  {
   "cell_type": "code",
   "execution_count": 17,
   "metadata": {},
   "outputs": [
    {
     "name": "stdout",
     "output_type": "stream",
     "text": [
      "p= 0.950004209703559\n"
     ]
    }
   ],
   "source": [
    "za = 1.96\n",
    "zb = -1.96\n",
    "pa = norm.cdf(za, loc=0, scale=1) # loc is mean\n",
    "pb = norm.cdf(zb, loc=0, scale=1) # scale is standard deviation\n",
    "p = pa - pb\n",
    "print('p=',p)"
   ]
  },
  {
   "cell_type": "code",
   "execution_count": 18,
   "metadata": {},
   "outputs": [
    {
     "data": {
      "image/png": "[encoded data removed]",
      "text/plain": [
       "<Figure size 360x216 with 1 Axes>"
      ]
     },
     "metadata": {
      "needs_background": "light"
     },
     "output_type": "display_data"
    }
   ],
   "source": [
    "# グラフ書いてみるよ\n",
    "za = 1.96\n",
    "zb = -1.96\n",
    "x = np.arange( -3, 3, 0.01)\n",
    "y = norm.pdf(x, loc=0, scale=1)\n",
    "\n",
    "fig = plt.subplots(figsize=(5,3))\n",
    "plt.plot(x,y,label='std=1')\n",
    "\n",
    "pa = norm.cdf(za, loc=0, scale=1) # loc is mean\n",
    "pb = norm.cdf(zb, loc=0, scale=1) # scale is standard deviation\n",
    "p = pa - pb\n",
    "\n",
    "plt.axvline(za, color='orange',label=\"za={0}\".format(za))\n",
    "plt.axvline(zb, color='yellow',label=\"zb={0}\".format(zb))\n",
    "plt.title(\"Probability for p=pa-pb={0}\".format(p))\n",
    "plt.legend()\n",
    "if FLAG_fig: plt.savefig('fig_PROB_ProbFromPercentPoint.png')"
   ]
  },
  {
   "cell_type": "markdown",
   "metadata": {},
   "source": [
    "#### 検定では，$\\alpha$が初めに与えられる。\n",
    "これに基づき，片側（z_alp），両側（za, zb）を求めることが多い。  \n",
    "片側の場合は既に述べた。  \n",
    "両側の場合，正規分布が対称で，かつ，（za, zb）が原点を中心とした左右対称という前提があり，この場合，intervalを用いることができる。<br>\n",
    "下記の例では，両側にz_alp/2=0.025 があり，この二つを足して0.05となることに留意。"
   ]
  },
  {
   "cell_type": "code",
   "execution_count": 19,
   "metadata": {},
   "outputs": [
    {
     "name": "stdout",
     "output_type": "stream",
     "text": [
      "za= -1.959963984540054   zb= 1.959963984540054\n"
     ]
    }
   ],
   "source": [
    "za,zb = norm.interval(alpha=0.95, loc=0, scale=1)\n",
    "print('za=',za,'  zb=',zb)"
   ]
  },
  {
   "cell_type": "markdown",
   "metadata": {},
   "source": [
    "横軸が $x$,  縦軸が頻度（データ数Nが多いほど，縦軸のスケールも大きくなる）<br>\n",
    "・平均値を中心とした分布となる<br>\n",
    "・データ数100程度では，正規分布の形とは言えず，データ数を非常に多くして，ようやく理想形に近くなる<br>\n",
    "・標本平均値，標本標準偏差もデータ数がかなり多くないと，真値に近づかない<br>\n",
    "・標準偏差の計算 x.std(ddof=1) のddof=1は“不偏標準偏差”を求めるとき，すなわち，1/(N-1)という除算を行う<br>\n",
    "・このddofを指定しないと， 1/N を用いた計算を行い，不偏とならない<br>\n",
    "・標準偏差はばらつきの指標となる"
   ]
  },
  {
   "cell_type": "code",
   "execution_count": 23,
   "metadata": {},
   "outputs": [
    {
     "name": "stdout",
     "output_type": "stream",
     "text": [
      "N = 100  mean = 2.081327  std = 3.401773e+00\n"
     ]
    },
    {
     "data": {
      "image/png": "[encoded data removed]",
      "text/plain": [
       "<Figure size 432x288 with 1 Axes>"
      ]
     },
     "metadata": {
      "needs_background": "light"
     },
     "output_type": "display_data"
    }
   ],
   "source": [
    "np.random.seed(123) # scipyと共通，乱数発生の再現性を得る\n",
    "\n",
    "mean = 2.0 # mean, 平均値\n",
    "std = 3.0  # standar deviation, 標準偏差\n",
    "#for N in [100, 10000]:\n",
    "for N in [100]:\n",
    "    x = scipy.stats.norm.rvs(loc=mean, scale=std, size=N) # rvs:Random variates\n",
    "    print('N = %d  mean = %f  std = %e' % (N, x.mean(), x.std(ddof=1))) \n",
    "    plt.figure()\n",
    "    plt.hist(x, bins=20)\n",
    "    plt.title('$N = %i$' % (N) )\n",
    "\n",
    "plt.show()"
   ]
  },
  {
   "cell_type": "markdown",
   "metadata": {},
   "source": [
    "#### 中心極限定理\n",
    "一様乱数を用いる，この区間[a,b]の平均値は$\\mu = \\frac{a+b}{2}$, 分散$\\sigma^2 = \\frac{(b-a)^2}{12}$である。\n",
    "このn個（幾つかの値）の標本平均をN個（これは一定とする）発生させ，その分布を見ると，正規分布$N(\\mu, \\sigma^2/n )$に近づく。ここでは，標準正規分布に正規化する。\n",
    "他の分布でも試してみられたい。"
   ]
  },
  {
   "cell_type": "code",
   "execution_count": 22,
   "metadata": {},
   "outputs": [
    {
     "data": {
      "text/plain": [
       "[<matplotlib.lines.Line2D at 0x191f44ce910>]"
      ]
     },
     "execution_count": 22,
     "metadata": {},
     "output_type": "execute_result"
    },
    {
     "data": {
      "image/png": "[encoded data removed]",
      "text/plain": [
       "<Figure size 432x288 with 1 Axes>"
      ]
     },
     "metadata": {
      "needs_background": "light"
     },
     "output_type": "display_data"
    }
   ],
   "source": [
    "N = 2000\n",
    "y= np.zeros(N)\n",
    "for n in [5, 5000]:\n",
    "    for i in range(N):\n",
    "        x = scipy.stats.uniform.rvs(size=n)\n",
    "        y[i] = (x.mean() - 1/2)/(np.sqrt(1/12)/np.sqrt(n))\n",
    "    plt.hist(y, bins=20, range=(-4,4), density=True)\n",
    "\n",
    "xx = np.arange(-4, 4, 0.01)\n",
    "nrm = scipy.stats.norm.pdf(xx, loc=0.0, scale=1.0 )\n",
    "plt.plot(xx, nrm, c='k')\n"
   ]
  },
  {
   "cell_type": "markdown",
   "metadata": {},
   "source": [
    "### ポアソン分布\n",
    "$$\n",
    "P(X=k) = \\exp (-\\lambda t) \\frac{(\\lambda t)^k}{k !}\n",
    "$$\n",
    "scipy.stats.poisson  \n",
    "https://docs.scipy.org/doc/scipy/reference/generated/scipy.stats.poisson.html"
   ]
  },
  {
   "cell_type": "code",
   "execution_count": 24,
   "metadata": {},
   "outputs": [],
   "source": [
    "# -*- coding: utf-8 -*-\n",
    "import numpy as np\n",
    "from scipy.stats import poisson\n",
    "from scipy.stats import uniform\n",
    "\n",
    "import matplotlib.pyplot as plt\n",
    "%matplotlib inline\n"
   ]
  },
  {
   "cell_type": "markdown",
   "metadata": {},
   "source": [
    "### 確率質量関数（pmf: Probability mass function）のグラフ\n",
    "離散確率変数の場合の呼称 ，連続確率変数の場合は確率密度関数 (pdf: Probability density function)"
   ]
  },
  {
   "cell_type": "code",
   "execution_count": 25,
   "metadata": {},
   "outputs": [
    {
     "data": {
      "text/plain": [
       "<matplotlib.legend.Legend at 0x191f32b4490>"
      ]
     },
     "execution_count": 25,
     "metadata": {},
     "output_type": "execute_result"
    },
    {
     "data": {
      "image/png": "[encoded data removed]",
      "text/plain": [
       "<Figure size 576x288 with 1 Axes>"
      ]
     },
     "metadata": {
      "needs_background": "light"
     },
     "output_type": "display_data"
    }
   ],
   "source": [
    "fig = plt.subplots(figsize=(8,4))\n",
    "k = np.arange(0,16)\n",
    "\n",
    "for lamb in range(1,6):\n",
    "    p = poisson.pmf(k, lamb)\n",
    "    plt.plot(k, p, label='lamb='+str(lamb))\n",
    "\n",
    "plt.xlabel('k')\n",
    "plt.ylabel('Probability mass function')\n",
    "plt.legend()\n"
   ]
  },
  {
   "cell_type": "markdown",
   "metadata": {},
   "source": [
    "#### 例：交通事故問題\n",
    "交通事故　平均2.4件／日のとき，交通事故が2件／日　以下となる確率を求める。"
   ]
  },
  {
   "cell_type": "code",
   "execution_count": 26,
   "metadata": {},
   "outputs": [
    {
     "name": "stdout",
     "output_type": "stream",
     "text": [
      "sum of p = 0.5697087466575105\n"
     ]
    }
   ],
   "source": [
    "lamb = 2.4\n",
    "psum = 0\n",
    "for k in [0, 1, 2]:\n",
    "    p = poisson.pmf(k, mu=lamb)\n",
    "    psum = psum + p\n",
    "print('sum of p =',psum)"
   ]
  },
  {
   "cell_type": "markdown",
   "metadata": {},
   "source": [
    "#### ポアソン到着モデル\n",
    "$$ \n",
    "  t_{arrive} = -\\frac{1}{\\lambda} \\log_{e} P_{arrive} (T) \n",
    "$$"
   ]
  },
  {
   "cell_type": "code",
   "execution_count": 27,
   "metadata": {},
   "outputs": [
    {
     "data": {
      "image/png": "[encoded data removed]",
      "text/plain": [
       "<Figure size 432x216 with 1 Axes>"
      ]
     },
     "metadata": {
      "needs_background": "light"
     },
     "output_type": "display_data"
    }
   ],
   "source": [
    "np.random.seed(123)\n",
    "\n",
    "Num=30 # 　Num人分の到着時刻を得る\n",
    "t_arrive = np.zeros(Num)\n",
    "lamb = 1\n",
    "\n",
    "sum = 0.0\n",
    "for i in range(Num):\n",
    "    sum = sum - (1/lamb) * np.log( uniform.rvs(size=1) )\n",
    "    t_arrive[i] = sum\n",
    "\n",
    "fig, ax = plt.subplots(figsize=(6,3))\n",
    "ax.vlines(t_arrive, ymin=0, ymax=1)\n",
    "ax.set_xlabel('time[k]')\n",
    "plt.tight_layout() \n"
   ]
  },
  {
   "cell_type": "code",
   "execution_count": 63,
   "metadata": {},
   "outputs": [
    {
     "data": {
      "text/plain": [
       "array([ 0.36173173,  1.61300813,  3.096468  ,  3.69191736,  4.02115924,\n",
       "        4.88129069,  4.90071391,  5.27929894,  6.01132853,  6.94752223,\n",
       "        8.0170282 ,  8.33304156,  9.15727229, 11.97606585, 12.89725794,\n",
       "       13.20107562, 14.90212604, 16.64251721, 17.27447263, 17.90590856,\n",
       "       18.36098266, 18.52417029, 18.84650547, 19.33912531, 19.66424154,\n",
       "       20.7944717 , 21.81116677, 23.28842256, 24.51357118, 24.97405843])"
      ]
     },
     "execution_count": 63,
     "metadata": {},
     "output_type": "execute_result"
    }
   ],
   "source": [
    "t_arrive"
   ]
  },
  {
   "cell_type": "code",
   "execution_count": 28,
   "metadata": {},
   "outputs": [
    {
     "data": {
      "image/png": "[encoded data removed]",
      "text/plain": [
       "<Figure size 432x216 with 1 Axes>"
      ]
     },
     "metadata": {
      "needs_background": "light"
     },
     "output_type": "display_data"
    }
   ],
   "source": [
    "Num=30 # the number of arraivl, Num人分の到着時刻を得る\n",
    "t_arrive = np.zeros(Num)\n",
    "lamb = 1\n",
    "\n",
    "sum = 0.0\n",
    "for i in range(Num):\n",
    "    sum = sum - (1/lamb) * np.log( uniform.rvs(size=1) )\n",
    "    t_arrive[i] = sum\n",
    "\n",
    "fig, ax = plt.subplots(figsize=(6,3))\n",
    "ax.vlines(t_arrive, ymin=0, ymax=1)\n",
    "ax.set_xlabel('time[k]')\n",
    "plt.tight_layout() \n"
   ]
  },
  {
   "cell_type": "markdown",
   "metadata": {},
   "source": [
    "## 平均値の検定　（母分散が未知） t検定\n",
    "$$\n",
    "t = \\frac{\\hat{\\mu} - \\mu_0}{\\sqrt{\\sigma^2 \\big/ N}}\n",
    "$$\n",
    "上記の$t$検定量は自由度$ df = N - 1 $の$t$分布に従う（ $df$: Degree of Freedom）<br>\n",
    "scipy.stats.t https://docs.scipy.org/doc/scipy/reference/generated/scipy.stats.t.html <br>"
   ]
  },
  {
   "cell_type": "code",
   "execution_count": 29,
   "metadata": {},
   "outputs": [],
   "source": [
    "# -*- coding: utf-8 -*-\n",
    "\n",
    "import numpy as np\n",
    "import scipy as sp\n",
    "from scipy import stats\n",
    "\n",
    "import matplotlib.pyplot as plt\n",
    "%matplotlib inline\n"
   ]
  },
  {
   "cell_type": "markdown",
   "metadata": {},
   "source": [
    "## 累積確率(CDF:cumulative distribution function)"
   ]
  },
  {
   "cell_type": "code",
   "execution_count": 35,
   "metadata": {},
   "outputs": [
    {
     "data": {
      "text/plain": [
       "Text(0.5, 1.0, 'Normal Distribution')"
      ]
     },
     "execution_count": 35,
     "metadata": {},
     "output_type": "execute_result"
    },
    {
     "data": {
      "image/png": "[encoded data removed]",
      "text/plain": [
       "<Figure size 432x288 with 1 Axes>"
      ]
     },
     "metadata": {
      "needs_background": "light"
     },
     "output_type": "display_data"
    }
   ],
   "source": [
    "x = np.linspace(-4, 4, 100)\n",
    "plt.plot(x, stats.norm.pdf(x))\n",
    "#plt.plot(x, stats.t.pdf(x,99))\n",
    "plt.xlabel('x')\n",
    "plt.ylabel('P')\n",
    "plt.title('Normal Distribution')"
   ]
  },
  {
   "cell_type": "code",
   "execution_count": 34,
   "metadata": {},
   "outputs": [
    {
     "data": {
      "text/plain": [
       "Text(0.5, 1.0, 'Cumulative Distribution Function')"
      ]
     },
     "execution_count": 34,
     "metadata": {},
     "output_type": "execute_result"
    },
    {
     "data": {
      "image/png": "[encoded data removed]",
      "text/plain": [
       "<Figure size 432x288 with 1 Axes>"
      ]
     },
     "metadata": {
      "needs_background": "light"
     },
     "output_type": "display_data"
    }
   ],
   "source": [
    "\n",
    "#y_cdf = stats.t.cdf(x,100-1)\n",
    "y_cdf = stats.norm.cdf(x)\n",
    "plt.plot(x, y_cdf)\n",
    "plt.xlabel('x')\n",
    "plt.ylabel('P')\n",
    "plt.title('Cumulative Distribution Function')"
   ]
  },
  {
   "cell_type": "code",
   "execution_count": 22,
   "metadata": {},
   "outputs": [
    {
     "data": {
      "text/plain": [
       "100"
      ]
     },
     "execution_count": 22,
     "metadata": {},
     "output_type": "execute_result"
    }
   ],
   "source": [
    "len(x)"
   ]
  },
  {
   "cell_type": "code",
   "execution_count": 23,
   "metadata": {},
   "outputs": [
    {
     "data": {
      "text/plain": [
       "0.20135069209669498"
      ]
     },
     "execution_count": 23,
     "metadata": {},
     "output_type": "execute_result"
    }
   ],
   "source": [
    "stats.t.cdf(0.53,100-1)-stats.t.cdf(0,100-1)"
   ]
  },
  {
   "cell_type": "code",
   "execution_count": 25,
   "metadata": {},
   "outputs": [
    {
     "data": {
      "text/plain": [
       "0.0630083644639784"
      ]
     },
     "execution_count": 25,
     "metadata": {},
     "output_type": "execute_result"
    }
   ],
   "source": [
    "1-stats.norm.cdf(1.53)"
   ]
  },
  {
   "cell_type": "code",
   "execution_count": 31,
   "metadata": {},
   "outputs": [
    {
     "data": {
      "text/plain": [
       "0.20194403460512356"
      ]
     },
     "execution_count": 31,
     "metadata": {},
     "output_type": "execute_result"
    }
   ],
   "source": [
    "stats.norm.cdf(0.53)-stats.norm.cdf(0)"
   ]
  },
  {
   "cell_type": "markdown",
   "metadata": {},
   "source": [
    "#### 例１：あるクラス，テストの平均点と補講の効用（片側検定）"
   ]
  },
  {
   "cell_type": "code",
   "execution_count": 22,
   "metadata": {},
   "outputs": [
    {
     "name": "stdout",
     "output_type": "stream",
     "text": [
      "1.5 3.064129385141706 10\n"
     ]
    }
   ],
   "source": [
    "data = np.array([1, -1, -2, 3, -1, 5, 4, 0, 7, -1])\n",
    "m = np.average(data) # mean\n",
    "s = np.std(data, ddof=1) # std, ddof=1 : unbiased\n",
    "N = len(data) # the number of sample\n",
    "print(m,s,N)"
   ]
  },
  {
   "cell_type": "code",
   "execution_count": 23,
   "metadata": {},
   "outputs": [
    {
     "name": "stdout",
     "output_type": "stream",
     "text": [
      "talp (alpha=0.05, df=9) =1.833113\n",
      "t= 1.5480470613460082\n"
     ]
    }
   ],
   "source": [
    "alp = 0.05\n",
    "# 自由度N-1のt分布で、alphaに対するパーセント点を求める(1-alpa)をppf(percent point function)に入れて求める->talp\n",
    "talp = stats.t.ppf((1-alp),N-1)\n",
    "print('talp (alpha=0.05, df=%d) =%f' %((N-1),talp))\n",
    "\n",
    "m0 = 0 # null hypothesis\n",
    "# 母関数の平均が0が帰無仮説\n",
    "# t値は、は talpより大？小？\n",
    "t = (m-m0)/(s/np.sqrt(N))\n",
    "print('t=', t)"
   ]
  },
  {
   "cell_type": "markdown",
   "metadata": {},
   "source": [
    "talp > t より，H0は棄却できない。\n",
    "通常は，talp, t のようなpp(percent point)を求めるよりは，\n",
    "p値(p value)を求める。これを次に示す"
   ]
  },
  {
   "cell_type": "code",
   "execution_count": 24,
   "metadata": {},
   "outputs": [
    {
     "name": "stdout",
     "output_type": "stream",
     "text": [
      "p value= 0.07800883831234118\n"
     ]
    }
   ],
   "source": [
    "prob = stats.t.cdf(t,N-1)\n",
    "print('p value=',1-prob)"
   ]
  },
  {
   "cell_type": "markdown",
   "metadata": {},
   "source": [
    "有意水準を0.05 とおくと，これよりp valueの方が大きいので，H0を棄却できない。"
   ]
  },
  {
   "cell_type": "markdown",
   "metadata": {},
   "source": [
    "#### 例2：精密部品の直径（両側検定）"
   ]
  },
  {
   "cell_type": "code",
   "execution_count": 48,
   "metadata": {},
   "outputs": [
    {
     "name": "stdout",
     "output_type": "stream",
     "text": [
      "sample mean = 1.5396375   std =  0.00042067123233509513  The number of data =  8\n"
     ]
    }
   ],
   "source": [
    "data2 = np.array([1.5399, 1.5390, 1.5399, 1.5395, 1.5400, 1.5390, 1.5399, 1.5399])\n",
    "m = np.mean(data2)        # mean\n",
    "s = np.std(data2, ddof=1) # std, ddof=1 : unbiased\n",
    "N = len(data2)            # \n",
    "df = N - 1               # DoF (degree of freedom)\n",
    "m0 = 1.54                 # H0 (null hypothesis)\n",
    "print('sample mean =',m,'  std = ',s,' The number of data = ',N)"
   ]
  },
  {
   "cell_type": "code",
   "execution_count": 54,
   "metadata": {},
   "outputs": [
    {
     "name": "stdout",
     "output_type": "stream",
     "text": [
      "t =  -2.4373067467182707\n",
      "p value = 0.04493615922381196\n"
     ]
    }
   ],
   "source": [
    "t = (m-m0)/(s/np.sqrt(N))   # サンプルから求まるpp値\n",
    "prob = stats.t.cdf(t, df)\n",
    "if t >=  0:\n",
    "    p = 1 - prob\n",
    "else:\n",
    "    p = prob\n",
    "\n",
    "print('t = ',t)\n",
    "print('p value =',2*p)"
   ]
  },
  {
   "cell_type": "code",
   "execution_count": 53,
   "metadata": {},
   "outputs": [
    {
     "data": {
      "text/plain": [
       "0.04493615922381196"
      ]
     },
     "execution_count": 53,
     "metadata": {},
     "output_type": "execute_result"
    }
   ],
   "source": [
    "data2 = np.array([1.5399, 1.5390, 1.5399, 1.5395, 1.5400, 1.5390, 1.5399, 1.5399])\n",
    "m = np.mean(data2)        # mean\n",
    "s = np.std(data2, ddof=1) # std, ddof=1 : unbiased\n",
    "m0=1.54\n",
    "N = len(data2) \n",
    "t = (m-m0)/(s/np.sqrt(N))   # サンプルから求まるpp値\n",
    "prob = stats.t.cdf(t, N-1)\n",
    "p= (1-prob) if t >= 0 else prob\n",
    "pvalue=2*p\n",
    "pvalue"
   ]
  },
  {
   "cell_type": "code",
   "execution_count": 52,
   "metadata": {},
   "outputs": [
    {
     "data": {
      "text/plain": [
       "(1.0348676552358357e-26, -10354.35142053983, 0, 0.00042067123233509513)"
      ]
     },
     "execution_count": 52,
     "metadata": {},
     "output_type": "execute_result"
    }
   ],
   "source": [
    "prob,t,m,s"
   ]
  },
  {
   "cell_type": "markdown",
   "metadata": {},
   "source": [
    "注意：上記のように，tが負の値をとるときは，p = prob とする。  \n",
    "$\\alpha=0.05$と置くならば，p value $< \\alpha$ よりH0を棄却"
   ]
  },
  {
   "cell_type": "markdown",
   "metadata": {},
   "source": [
    "実は，次の関数を用いると計算は楽<br>\n",
    "t, p = scipy.stats.ttest_1samp(data, m0)<br>\n",
    "data: 1群のサンプルデータ<br>\n",
    "m0: 帰無仮説H0で仮定した平均値<br>\n",
    "t: t値<br>\n",
    "p: p値，両側検定を前提としている。片側検定ではこの半分の値を用いる<br>\n",
    "https://docs.scipy.org/doc/scipy/reference/generated/scipy.stats.ttest_1samp.html"
   ]
  },
  {
   "cell_type": "code",
   "execution_count": 27,
   "metadata": {},
   "outputs": [
    {
     "name": "stdout",
     "output_type": "stream",
     "text": [
      "t =  -2.4373067467182707\n",
      "both side p =  0.04493615922381196\n",
      "one  side p =  0.02246807961190598\n"
     ]
    }
   ],
   "source": [
    "t, p = stats.ttest_1samp(data2, m0)\n",
    "print('t = ',t)\n",
    "print('both side p = ',p)\n",
    "print('one  side p = ',p/2)"
   ]
  },
  {
   "cell_type": "code",
   "execution_count": null,
   "metadata": {},
   "outputs": [],
   "source": []
  }
 ],
 "metadata": {
  "interpreter": {
   "hash": "2db524e06e9f5f4ffedc911c917cb75e12dbc923643829bf417064a77eb14d37"
  },
  "kernelspec": {
   "display_name": "Environment (conda_caret2test)",
   "language": "python",
   "name": "conda_caret2test"
  },
  "language_info": {
   "codemirror_mode": {
    "name": "ipython",
    "version": 3
   },
   "file_extension": ".py",
   "mimetype": "text/x-python",
   "name": "python",
   "nbconvert_exporter": "python",
   "pygments_lexer": "ipython3",
   "version": "3.8.5"
  },
  "orig_nbformat": 4
 },
 "nbformat": 4,
 "nbformat_minor": 2
}
