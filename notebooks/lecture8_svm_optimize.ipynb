{
 "cells": [
  {
   "attachments": {},
   "cell_type": "markdown",
   "metadata": {},
   "source": [
    "# Lecture8 最適化を使ってSVMを解く\n",
    "<div dir='rtl'>\n",
    "2025.5岩政\n",
    "</div>\n",
    "\n",
    "ここでは、sklearn.svmを使わずに、定式化を愚直に、最適化計算で決定境界とマージンを求める例を示す。\n",
    "\n",
    "参考：[線形SVM(Support Vector Machine)を敢えてscipy.optimizeで実装してみた](https://qiita.com/rtok/items/f50e3ed2483a5ac55e31)"
   ]
  },
  {
   "cell_type": "markdown",
   "metadata": {},
   "source": [
    "SMVにおける双対問題の定式化では、以下の$f(\\alpha)$を最小化する$\\alpha$を求める問題に帰着できた。（スライドでは、符号が逆で、最大化問題(argmax)であるとしたが、同じこと)\n",
    "\n",
    "$$\n",
    "\\argmin_{\\alpha} f(\\alpha)\n",
    "$$\n",
    "\n",
    "\\begin{align}\n",
    "f(\\alpha) &=  \\frac{1}{2}\\sum_{i,j=1}^l\\alpha_i\\alpha_jy_iy_jx_i^{\\mathrm{T}}x_j - \\sum_{i=1}^l\\alpha_i \\\\\n",
    "g_i(\\alpha_i) &= \\alpha_i \\ge 0, \\quad i = 1, \\dots, l \\\\\n",
    "h(\\alpha) &= \\sum_{i=1}^l{\\alpha_iy_i} = 0\n",
    "\\end{align}\n",
    "\n",
    "\n",
    "scipyパッケージのoptimizeライブラリには、この最適化問題（最小化）をもとめる関数minimizeがある\n",
    "\n",
    "```\n",
    "from scipy.optimize import minimize\n",
    "\n",
    "cons = [{\"type\": \"ineq\", \"fun\": g}]\n",
    "res = minimize(fun, x0, method=\"SLSQP\", constraints=cons)\n",
    "\n",
    "```\n",
    "\n",
    "- funは最適化する関数\n",
    "- x0は初期値、0でよい\n",
    "- methodは最適化の手法で、\"SLSQP\"(=Sequential Least SQuares Programming(逐次二次計画法))をここではつかう\n",
    "- constraintsは制約で、上記例だと、等式制約$g(x)=0$を指定していることになります。 "
   ]
  },
  {
   "cell_type": "markdown",
   "metadata": {},
   "source": [
    "最初に、データを作成する"
   ]
  },
  {
   "cell_type": "code",
   "execution_count": 2,
   "metadata": {},
   "outputs": [],
   "source": [
    "import numpy as np\n",
    "from scipy.optimize import minimize\n",
    "from matplotlib import pyplot as plt\n",
    "\n",
    "ONE_DATA = 30\n",
    "x = np.vstack((np.random.normal(loc=-2, scale=1.0, size=(ONE_DATA, 2)),\\\n",
    "        np.random.normal(loc=2, scale=1.0, size=(ONE_DATA, 2))))\n",
    "y = np.hstack((np.repeat(-1, ONE_DATA), np.repeat(1, ONE_DATA)))"
   ]
  },
  {
   "cell_type": "markdown",
   "metadata": {},
   "source": [
    "生成されたデータはこちら"
   ]
  },
  {
   "cell_type": "code",
   "execution_count": 3,
   "metadata": {},
   "outputs": [
    {
     "data": {
      "text/plain": [
       "<matplotlib.collections.PathCollection at 0x220e4cafbd0>"
      ]
     },
     "execution_count": 3,
     "metadata": {},
     "output_type": "execute_result"
    },
    {
     "data": {
      "image/png": "[encoded data removed]",
      "text/plain": [
       "<Figure size 640x480 with 1 Axes>"
      ]
     },
     "metadata": {},
     "output_type": "display_data"
    }
   ],
   "source": [
    "plt.scatter(x[:,0],x[:,1],c=y)"
   ]
  },
  {
   "cell_type": "markdown",
   "metadata": {},
   "source": [
    "目的関数、不等式制約、等式制約を定義します。ここでは、pythonのクロージャーというやり方で関数を定義しています（関数を返す関数といういみ）"
   ]
  },
  {
   "cell_type": "code",
   "execution_count": 4,
   "metadata": {},
   "outputs": [],
   "source": [
    "# 目的関数\n",
    "# x, yはデータで、データを指定して関数を実行すると引数が$\\alpha$の関数が返ってくるのでそれを`minimize`に使わせる。\n",
    "def get_obj(x, y):\n",
    "    def obj(alpha):\n",
    "        second = np.array([alpha[i]*alpha[j]*y[i]*y[j]*np.dot(x[i], x[j]) \\\n",
    "                for i in range(len(alpha)) for j in range(len(alpha))])\n",
    "        return  - np.sum(alpha) + .5 * np.sum(second)\n",
    "    return obj\n",
    "\n",
    "# 不等式制約（制約の数だけ作れるようにしていることに注意）\n",
    "def get_g(i):\n",
    "    def g(alpha):\n",
    "        return alpha[i]\n",
    "    return g\n",
    "\n",
    "# 等式制約\n",
    "def get_h(y):\n",
    "    def h(alpha):\n",
    "        return np.sum([alpha[i]*y[i] for i in range(len(alpha))])\n",
    "    return h"
   ]
  },
  {
   "cell_type": "markdown",
   "metadata": {},
   "source": [
    "目的関数や制約を、constraintsに積みます"
   ]
  },
  {
   "cell_type": "code",
   "execution_count": 5,
   "metadata": {},
   "outputs": [],
   "source": [
    "cons = [\n",
    "    {'type': 'eq', 'fun': get_h(y)}  # 等式制約\n",
    "]\n",
    "for i in range(len(x)):\n",
    "    cons.append({'type': 'ineq', 'fun': get_g(i)})  # 不等式制約"
   ]
  },
  {
   "cell_type": "markdown",
   "metadata": {},
   "source": [
    "最適化(minimize)を実行します。\n",
    "\n"
   ]
  },
  {
   "cell_type": "code",
   "execution_count": 6,
   "metadata": {},
   "outputs": [
    {
     "data": {
      "text/plain": [
       " message: Optimization terminated successfully\n",
       " success: True\n",
       "  status: 0\n",
       "     fun: -0.6237407407741055\n",
       "       x: [ 6.239e-01 -6.058e-15 ...  9.700e-15 -6.211e-16]\n",
       "     nit: 8\n",
       "     jac: [-4.564e-01  1.133e+00 ...  3.577e+00  2.579e+00]\n",
       "    nfev: 491\n",
       "    njev: 8"
      ]
     },
     "execution_count": 6,
     "metadata": {},
     "output_type": "execute_result"
    }
   ],
   "source": [
    "res = minimize(get_obj(x, y), np.zeros(len(x)), constraints=cons, method=\"SLSQP\")\n",
    "res"
   ]
  },
  {
   "cell_type": "markdown",
   "metadata": {},
   "source": [
    "res.xが求めた$\\alpha$であり、\n",
    "\n",
    "$$w = \\sum_{i=1}^l\\alpha_iy_ix_i$$\n",
    "\n",
    "であったから、$w$を求める"
   ]
  },
  {
   "cell_type": "code",
   "execution_count": 7,
   "metadata": {},
   "outputs": [],
   "source": [
    "\n",
    "alpha_hat = res.x\n",
    "tol = 1e-10\n",
    "support_index = np.where(alpha_hat > tol)[0]\n",
    "non_suppoert_index = np.where(alpha_hat <= tol)[0]\n",
    "alpha_hat[non_suppoert_index] = 0\n",
    "w = np.sum([alpha_hat[i]*y[i]*x[i] for i in range(len(x))], axis=0)"
   ]
  },
  {
   "cell_type": "markdown",
   "metadata": {},
   "source": [
    "bを求める"
   ]
  },
  {
   "cell_type": "code",
   "execution_count": 9,
   "metadata": {},
   "outputs": [],
   "source": [
    "# ラベルが-1のサポートベクトルを選出\n",
    "x_m = x[support_index][np.where(y[support_index]==-1)]\n",
    "# ラベルが+1のサポートベクトルを選出\n",
    "x_p = x[support_index][np.where(y[support_index]==1)]\n",
    "# サポートベクトルを一つだけ採用してbを計算\n",
    "b = - ( np.dot(w, x_p[0]) + np.dot(w, x_m[0]) ) / 2"
   ]
  },
  {
   "cell_type": "code",
   "execution_count": 10,
   "metadata": {},
   "outputs": [
    {
     "data": {
      "text/plain": [
       "(array([0.62999001, 0.92254085]), -0.45639150945743384)"
      ]
     },
     "execution_count": 10,
     "metadata": {},
     "output_type": "execute_result"
    }
   ],
   "source": [
    "w,b"
   ]
  },
  {
   "cell_type": "markdown",
   "metadata": {},
   "source": [
    "結果を描画します\n",
    "\n",
    "- 決定境界:\n",
    "  - $ \\vec{x}\\cdot\\vec{w}+b=0$\n",
    "- マージン線：\n",
    "  - $ \\vec{x}\\cdot\\vec{w}+b=1$\n",
    "  - $ \\vec{x}\\cdot\\vec{w}+b=-1$\n",
    "\n",
    "であるから、"
   ]
  },
  {
   "cell_type": "code",
   "execution_count": 11,
   "metadata": {},
   "outputs": [
    {
     "data": {
      "text/plain": [
       "(-5.0, 5.0)"
      ]
     },
     "execution_count": 11,
     "metadata": {},
     "output_type": "execute_result"
    },
    {
     "data": {
      "image/png": "[encoded data removed]",
      "text/plain": [
       "<Figure size 640x480 with 1 Axes>"
      ]
     },
     "metadata": {},
     "output_type": "display_data"
    }
   ],
   "source": [
    "# 決定境界のy座標はこちら\n",
    "def classifier(w1, w2, b, x):\n",
    "    return -w1/w2*x - b/w2\n",
    "\n",
    "# marginの座標を計算、 m=1,-1\n",
    "def margin(w1, w2, b, x,m):\n",
    "    return -w1/w2*x - b/w2 +m/w2\n",
    "\n",
    "\n",
    "for xi, yi in zip(x, y):\n",
    "    # サポートベクトルの描画\n",
    "    # 条件としてはモレがあるが、ほぼモレは起こりえないのでこのまま。\n",
    "    if (xi[0] in x_m and xi[1] in x_m) or \\\n",
    "            (xi[0] in x_p and xi[1] in x_p):\n",
    "        plt.plot(xi[0], xi[1], 'gv')\n",
    "        continue\n",
    "    # ラベルごとに記号を分ける\n",
    "    if yi == 1:\n",
    "        plt.plot(xi[0], xi[1], 'ro')\n",
    "    else:\n",
    "        plt.plot(xi[0], xi[1], 'bx')\n",
    "x2 = np.linspace(-5, 5, 100)\n",
    "y2 = classifier(w[0], w[1], b, x2)\n",
    "plt.plot(x2, y2)\n",
    "plt.plot(x2, margin(w[0], w[1], b, x2,1),linestyle = \"dashed\")\n",
    "plt.plot(x2, margin(w[0], w[1], b, x2,-1),linestyle = \"dashed\")\n",
    "plt.xlim([-5, 5])\n",
    "plt.ylim([-5, 5])"
   ]
  },
  {
   "cell_type": "code",
   "execution_count": null,
   "metadata": {},
   "outputs": [],
   "source": []
  }
 ],
 "metadata": {
  "kernelspec": {
   "display_name": "Python 3",
   "language": "python",
   "name": "python3"
  },
  "language_info": {
   "codemirror_mode": {
    "name": "ipython",
    "version": 3
   },
   "file_extension": ".py",
   "mimetype": "text/x-python",
   "name": "python",
   "nbconvert_exporter": "python",
   "pygments_lexer": "ipython3",
   "version": "3.11.6"
  },
  "orig_nbformat": 4
 },
 "nbformat": 4,
 "nbformat_minor": 2
}
